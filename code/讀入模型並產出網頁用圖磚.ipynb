{
 "cells": [
  {
   "cell_type": "code",
   "execution_count": 2,
   "id": "16bfccfb",
   "metadata": {},
   "outputs": [
    {
     "name": "stdout",
     "output_type": "stream",
     "text": [
      "Current task progress: 100.00%"
     ]
    }
   ],
   "source": [
    "import numpy as np\n",
    "import os, sys, cv2\n",
    "import matplotlib.pyplot as plt\n",
    "from tqdm.notebook import tqdm\n",
    "import Metashape as PhotoScan\n",
    "import pandas as pd\n",
    "from glob import glob\n",
    "from zipfile import ZipFile\n",
    "import time\n",
    "def progress_print(p):\n",
    "    elapsed = float(time.time() - start_time)\n",
    "    if p:\n",
    "        sec = elapsed / p * 100\n",
    "        print('\\rCurrent task progress: {:.2f}%'.format(p), end='')\n",
    "    else:\n",
    "        print('\\rCurrent task progress: {:.2f}%'.format(p), end='') #if 0% progress\n",
    "        \n",
    "global start_time\n",
    "\n",
    "## userArg\n",
    "project_name = \"wegan_2ha\"\n",
    "web_Title = \"2HA\"\n",
    "##\n",
    "\n",
    "agisoftProjectPath = fr'../docSave/{project_name}.psx'\n",
    "doc = PhotoScan.Document()\n",
    "doc.open(agisoftProjectPath)\n",
    "chunk = doc.chunk\n",
    "start_time = time.time()\n",
    "chunk.exportTiledModel(f'../docSave/{project_name}.zip', \n",
    "                       format=PhotoScan.TiledModelFormatCesium,\n",
    "                       texture_format=PhotoScan.ImageFormatJPEG,\n",
    "                       model_format=PhotoScan.ModelFormatCOLLADA,\n",
    "                       raster_transform=PhotoScan.RasterTransformNone,\n",
    "                       progress=progress_print)\n",
    "\n",
    "# from zipfile import ZipFile\n",
    "srcZip = f'../docSave/{project_name}.zip'\n",
    "archiveName = os.path.basename(srcZip).lower().replace(\".zip\", \"\")\n",
    "cesiumDir = \"..//Cesium-1.84/\"\n",
    "dstDir = os.path.join(cesiumDir, archiveName)\n",
    "os.makedirs(dstDir,exist_ok=True) # dev: True\n",
    "\n",
    "with ZipFile(srcZip, 'r') as zipObj:\n",
    "   # Extract all the contents of zip file in different directory\n",
    "   zipObj.extractall(dstDir)\n",
    "\n",
    "os.remove(srcZip)\n",
    "# TODO: html name check\n",
    "baseWebPage = os.path.join(cesiumDir, \"base.html\")\n",
    "newWebPage = os.path.join(cesiumDir, f\"{archiveName}.html\")\n",
    "newPageUrl = f\"http://192.168.0.115:8000/{archiveName}/tileset.json\"\n",
    "with open(baseWebPage, \"r\") as f_in:\n",
    "    data = f_in.readlines()\n",
    "    data[43] = data[43].replace(\"\\'\\'\", f\"\\'{newPageUrl}\\'\")\n",
    "    data[11] = data[11].replace(\"Cesium Demo\", web_Title)\n",
    "    with open(newWebPage, \"w\") as f_out:\n",
    "        f_out.writelines(data)"
   ]
  },
  {
   "cell_type": "code",
   "execution_count": null,
   "id": "0fdd568e",
   "metadata": {},
   "outputs": [],
   "source": []
  }
 ],
 "metadata": {
  "kernelspec": {
   "display_name": "Python 3 (ipykernel)",
   "language": "python",
   "name": "python3"
  },
  "language_info": {
   "codemirror_mode": {
    "name": "ipython",
    "version": 3
   },
   "file_extension": ".py",
   "mimetype": "text/x-python",
   "name": "python",
   "nbconvert_exporter": "python",
   "pygments_lexer": "ipython3",
   "version": "3.8.12"
  }
 },
 "nbformat": 4,
 "nbformat_minor": 5
}
